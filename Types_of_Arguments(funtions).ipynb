{
  "nbformat": 4,
  "nbformat_minor": 0,
  "metadata": {
    "colab": {
      "provenance": []
    },
    "kernelspec": {
      "name": "python3",
      "display_name": "Python 3"
    },
    "language_info": {
      "name": "python"
    }
  },
  "cells": [
    {
      "cell_type": "code",
      "execution_count": null,
      "metadata": {
        "id": "vGK9gr8mSiwd"
      },
      "outputs": [],
      "source": []
    },
    {
      "cell_type": "markdown",
      "source": [
        "Types of Argument\n",
        "1. Positional Arguments: Parameter will write first to that the value will get associated.\n",
        "2. Default Arguments: getting some default values associated to parameters\n",
        "3. Arbitrary Arguments\n",
        "4. Keyword Arguments: while calling the function, we need to provide the input and output in the form of key value pair (by using = not the :)\n",
        "5. Arbitrary Keyword Arguments"
      ],
      "metadata": {
        "id": "mtenKo5ZSta8"
      }
    },
    {
      "cell_type": "code",
      "source": [
        "def name(First_name, Last_name):  # positionam argument\n",
        "  print('Hi your first_name is ',First_name, Last_name)"
      ],
      "metadata": {
        "id": "zZaecEolmYBH"
      },
      "execution_count": 3,
      "outputs": []
    },
    {
      "cell_type": "code",
      "source": [
        "name('Adaziia','Lerite')"
      ],
      "metadata": {
        "colab": {
          "base_uri": "https://localhost:8080/"
        },
        "id": "a_hBfLJumwwl",
        "outputId": "d140ec3c-1344-48af-969f-05326ca238e4"
      },
      "execution_count": 4,
      "outputs": [
        {
          "output_type": "stream",
          "name": "stdout",
          "text": [
            "Hi your first_name is  Adaziia Lerite\n"
          ]
        }
      ]
    },
    {
      "cell_type": "code",
      "source": [
        "def greet(name,message='Hi How are you?'):    #defult argument/ Here message is the defult value\n",
        "     print(name,message)"
      ],
      "metadata": {
        "id": "8XE8nK10nELr"
      },
      "execution_count": 5,
      "outputs": []
    },
    {
      "cell_type": "code",
      "source": [
        "greet('Adaziia','Good morning') # If the user is providing the message , the message will display."
      ],
      "metadata": {
        "colab": {
          "base_uri": "https://localhost:8080/"
        },
        "id": "ZIbopoCZnsyY",
        "outputId": "94728cda-8ee8-4428-c83f-0f428cb40687"
      },
      "execution_count": 7,
      "outputs": [
        {
          "output_type": "stream",
          "name": "stdout",
          "text": [
            "Adaziia Good morning\n"
          ]
        }
      ]
    },
    {
      "cell_type": "code",
      "source": [
        "greet('Rebecca',)    # but if the user did not providing the message then by defualt value the message will be attach."
      ],
      "metadata": {
        "colab": {
          "base_uri": "https://localhost:8080/"
        },
        "id": "p0dBd3E4n9Gi",
        "outputId": "7e0a8820-0089-4033-96b3-e250db0599bc"
      },
      "execution_count": 8,
      "outputs": [
        {
          "output_type": "stream",
          "name": "stdout",
          "text": [
            "Rebecca Hi How are you?\n"
          ]
        }
      ]
    },
    {
      "cell_type": "markdown",
      "source": [
        "Create a function which takes name and salary as input and incase the salary is not provided, use defualt salary as 25000. Display the name and salary of the individual."
      ],
      "metadata": {
        "id": "eGqQnKW-pTI5"
      }
    },
    {
      "cell_type": "code",
      "source": [
        "def employee(name,salary=25000):\n",
        "  print(name,'Your monthly Salary is ',salary)"
      ],
      "metadata": {
        "id": "JcxVRTz7ptk4"
      },
      "execution_count": 10,
      "outputs": []
    },
    {
      "cell_type": "code",
      "source": [
        "employee('Adaziia',30000)"
      ],
      "metadata": {
        "colab": {
          "base_uri": "https://localhost:8080/"
        },
        "id": "ykPg09yNqCl9",
        "outputId": "a8eeabc8-a29b-4f53-f08c-f140662f48e2"
      },
      "execution_count": 11,
      "outputs": [
        {
          "output_type": "stream",
          "name": "stdout",
          "text": [
            "Adaziia Your monthly Salary is  30000\n"
          ]
        }
      ]
    },
    {
      "cell_type": "code",
      "source": [
        "employee('Rebecca',)"
      ],
      "metadata": {
        "colab": {
          "base_uri": "https://localhost:8080/"
        },
        "id": "lXczKTGtqMj0",
        "outputId": "3ad58a47-da5d-4d33-f32e-8869966eaa00"
      },
      "execution_count": 12,
      "outputs": [
        {
          "output_type": "stream",
          "name": "stdout",
          "text": [
            "Rebecca Your monthly Salary is  25000\n"
          ]
        }
      ]
    },
    {
      "cell_type": "code",
      "source": [
        "employee('Hriiyia',)"
      ],
      "metadata": {
        "colab": {
          "base_uri": "https://localhost:8080/"
        },
        "id": "w5MBpohppKmK",
        "outputId": "0e1991eb-425c-4c69-8197-f723c9e57b5d"
      },
      "execution_count": 13,
      "outputs": [
        {
          "output_type": "stream",
          "name": "stdout",
          "text": [
            "Hriiyia Your monthly Salary is  25000\n"
          ]
        }
      ]
    },
    {
      "cell_type": "code",
      "source": [
        "def greet(name,age,message):\n",
        "  print(message, name,'your age is',age)    # Keyword argument:similiar kind of concept with the dict/ u can give key value pair in any order"
      ],
      "metadata": {
        "id": "fdUnv3rCrfTC"
      },
      "execution_count": 14,
      "outputs": []
    },
    {
      "cell_type": "code",
      "source": [
        "greet(name='Adaziia',age=23,message='Good afternoon')"
      ],
      "metadata": {
        "colab": {
          "base_uri": "https://localhost:8080/"
        },
        "id": "-qz2T-m_r7q_",
        "outputId": "874ba623-5681-4f6e-956a-12ded7cf2aff"
      },
      "execution_count": 15,
      "outputs": [
        {
          "output_type": "stream",
          "name": "stdout",
          "text": [
            "Good afternoon Adaziia your age is 23\n"
          ]
        }
      ]
    },
    {
      "cell_type": "code",
      "source": [
        "greet (message='How are you',name='Hriiyia',age=45)"
      ],
      "metadata": {
        "colab": {
          "base_uri": "https://localhost:8080/"
        },
        "id": "PWJfYi0XtcK1",
        "outputId": "b091aeea-40df-4855-c4cd-f94a99a81bf5"
      },
      "execution_count": 16,
      "outputs": [
        {
          "output_type": "stream",
          "name": "stdout",
          "text": [
            "How are you Hriiyia your age is 45\n"
          ]
        }
      ]
    },
    {
      "cell_type": "code",
      "source": [
        "# Arbitrary Arguments : is use when you want to take a variable lengh of arguments as input from the user(*args)/// by default it is tuples\n",
        "def add(*args):\n",
        "  print(type(args))\n",
        "  print(args)\n",
        "  sum=0\n",
        "  for num in args:\n",
        "    sum=sum+num\n",
        "  return sum\n"
      ],
      "metadata": {
        "id": "dN59DRFatu7U"
      },
      "execution_count": 26,
      "outputs": []
    },
    {
      "cell_type": "code",
      "source": [
        "add(7,8)"
      ],
      "metadata": {
        "colab": {
          "base_uri": "https://localhost:8080/"
        },
        "id": "QpqTJ6OKv9wL",
        "outputId": "81c62dc3-7a55-4a5e-a2fc-90423301114f"
      },
      "execution_count": 27,
      "outputs": [
        {
          "output_type": "stream",
          "name": "stdout",
          "text": [
            "(7, 8)\n"
          ]
        },
        {
          "output_type": "execute_result",
          "data": {
            "text/plain": [
              "15"
            ]
          },
          "metadata": {},
          "execution_count": 27
        }
      ]
    },
    {
      "cell_type": "code",
      "source": [
        "def sum(*args):\n",
        "  print(type(args))\n",
        "  print(args)\n",
        "  sum=0\n",
        "  for num in args:\n",
        "    sum=sum+num\n",
        "  return sum"
      ],
      "metadata": {
        "id": "eXmo9t1awibu"
      },
      "execution_count": 28,
      "outputs": []
    },
    {
      "cell_type": "code",
      "source": [
        "sum(3,46,56)"
      ],
      "metadata": {
        "colab": {
          "base_uri": "https://localhost:8080/"
        },
        "id": "CTgAW3YDw31M",
        "outputId": "131fa5af-f804-4e43-93c3-b6bd2b7c97f8"
      },
      "execution_count": 29,
      "outputs": [
        {
          "output_type": "stream",
          "name": "stdout",
          "text": [
            "<class 'tuple'>\n",
            "(3, 46, 56)\n"
          ]
        },
        {
          "output_type": "execute_result",
          "data": {
            "text/plain": [
              "105"
            ]
          },
          "metadata": {},
          "execution_count": 29
        }
      ]
    },
    {
      "cell_type": "code",
      "source": [
        "def func(a,b,c,*args):\n",
        "  print(a)\n",
        "  print(b)\n",
        "  print(c)\n",
        "  print(args)"
      ],
      "metadata": {
        "id": "jrEPA-gQxuU2"
      },
      "execution_count": 41,
      "outputs": []
    },
    {
      "cell_type": "code",
      "source": [
        "func(2,3,5,5678689)"
      ],
      "metadata": {
        "colab": {
          "base_uri": "https://localhost:8080/"
        },
        "id": "4h1XfoPvyW7e",
        "outputId": "deaea51c-23b1-4c37-e6b5-78e051641c41"
      },
      "execution_count": 42,
      "outputs": [
        {
          "output_type": "stream",
          "name": "stdout",
          "text": [
            "2\n",
            "3\n",
            "5\n",
            "(5678689,)\n"
          ]
        }
      ]
    },
    {
      "cell_type": "code",
      "source": [
        "func(1,3,4,6,7,8,9)"
      ],
      "metadata": {
        "colab": {
          "base_uri": "https://localhost:8080/"
        },
        "id": "qpbkLZEO1BVg",
        "outputId": "a2ca997f-866a-464a-da7d-ea78142a1409"
      },
      "execution_count": 34,
      "outputs": [
        {
          "output_type": "stream",
          "name": "stdout",
          "text": [
            "1\n",
            "3\n",
            "4\n",
            "(6, 7, 8, 9)\n"
          ]
        }
      ]
    },
    {
      "cell_type": "code",
      "source": [
        "# Arbitrary keyword Arguments: having the property of both arguments/ symbol=**kwargs /defAULT TYPE IS DICTIONARY\n",
        "def display(**kwargs):\n",
        "  print(type(kwargs))\n",
        "  print(kwargs)\n",
        "\n",
        "  for key,value in kwargs.items():\n",
        "    print(key,'---->',value)"
      ],
      "metadata": {
        "id": "WvayQu0A1TdI"
      },
      "execution_count": 38,
      "outputs": []
    },
    {
      "cell_type": "code",
      "source": [
        "display(Name='Eloni',Age=23,City='Guwahati',Designation='Fashion designer')"
      ],
      "metadata": {
        "colab": {
          "base_uri": "https://localhost:8080/"
        },
        "id": "sDQvelN53YUg",
        "outputId": "9d2372cd-465a-4cef-82ac-db09941e77cf"
      },
      "execution_count": 40,
      "outputs": [
        {
          "output_type": "stream",
          "name": "stdout",
          "text": [
            "<class 'dict'>\n",
            "{'Name': 'Eloni', 'Age': 23, 'City': 'Guwahati', 'Designation': 'Fashion designer'}\n",
            "Name ----> Eloni\n",
            "Age ----> 23\n",
            "City ----> Guwahati\n",
            "Designation ----> Fashion designer\n"
          ]
        }
      ]
    },
    {
      "cell_type": "markdown",
      "source": [],
      "metadata": {
        "id": "O2IcZQn_xQXc"
      }
    }
  ]
}